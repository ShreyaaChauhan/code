{
  "nbformat": 4,
  "nbformat_minor": 0,
  "metadata": {
    "colab": {
      "name": "Assignment3.ipynb",
      "provenance": [],
      "authorship_tag": "ABX9TyMKHWtx4AOhszG/k8DeZF2d",
      "include_colab_link": true
    },
    "kernelspec": {
      "name": "python3",
      "display_name": "Python 3"
    }
  },
  "cells": [
    {
      "cell_type": "markdown",
      "metadata": {
        "id": "view-in-github",
        "colab_type": "text"
      },
      "source": [
        "<a href=\"https://colab.research.google.com/github/ShreyaaChauhan/code/blob/master/Assignment3.ipynb\" target=\"_parent\"><img src=\"https://colab.research.google.com/assets/colab-badge.svg\" alt=\"Open In Colab\"/></a>"
      ]
    },
    {
      "cell_type": "markdown",
      "metadata": {
        "id": "Xv6PWCb8Di2K",
        "colab_type": "text"
      },
      "source": [
        "**1.1** Write a Python Program to implement your own myreduce() function which works exactly\n",
        "like Python's built-in function reduce()"
      ]
    },
    {
      "cell_type": "markdown",
      "metadata": {
        "id": "f_B3rWhIERYu",
        "colab_type": "text"
      },
      "source": [
        "**Sol**"
      ]
    },
    {
      "cell_type": "markdown",
      "metadata": {
        "id": "gTU0dBn7LxOx",
        "colab_type": "text"
      },
      "source": [
        "**For Integers**"
      ]
    },
    {
      "cell_type": "code",
      "metadata": {
        "id": "HuT7YtqqGMpF",
        "colab_type": "code",
        "colab": {
          "base_uri": "https://localhost:8080/",
          "height": 51
        },
        "outputId": "71c09db6-f8dc-4d60-f1e7-482764f1d88c"
      },
      "source": [
        "def myreduce(l):\n",
        "  sum = 0\n",
        "  for i in l:\n",
        "    sum = sum + i\n",
        "  return sum  \n",
        "\n",
        "l = input(\"enter a list of number seperated by comma\")\n",
        "list = l.split(\",\")\n",
        "\n",
        "new_list = []\n",
        "for i in list:\n",
        "  new_list.append(int(i))\n",
        "\n",
        "print(\"result of myreduce function is {}\".format(myreduce(new_list)))"
      ],
      "execution_count": 20,
      "outputs": [
        {
          "output_type": "stream",
          "text": [
            "enter a list of number seperated by comma1,2,3\n",
            "result of myreduce function is 6\n"
          ],
          "name": "stdout"
        }
      ]
    },
    {
      "cell_type": "markdown",
      "metadata": {
        "id": "SWNbCWlmL3GT",
        "colab_type": "text"
      },
      "source": [
        "**For Strings**"
      ]
    },
    {
      "cell_type": "code",
      "metadata": {
        "id": "9Ui8binoJRAX",
        "colab_type": "code",
        "colab": {
          "base_uri": "https://localhost:8080/",
          "height": 68
        },
        "outputId": "54cacf42-59f1-487d-d34a-a908fe3e37b3"
      },
      "source": [
        "def myreduce(l):\n",
        "  sum = \"\"\n",
        "  for i in l:\n",
        "    sum = sum + i\n",
        "  return sum\n",
        "\n",
        "l= input(print(\"Enter list of strings seperated by comma\"))\n",
        "list = l.split(\",\")\n",
        "\n",
        "print(\"result of myreduce function is {}\".format(myreduce(list)))"
      ],
      "execution_count": 23,
      "outputs": [
        {
          "output_type": "stream",
          "text": [
            "Enter list of strings seperated by comma\n",
            "dfhh,fhgfh,hdhhf\n",
            "result of myreduce function is dfhhfhgfhhdhhf\n"
          ],
          "name": "stdout"
        }
      ]
    },
    {
      "cell_type": "markdown",
      "metadata": {
        "id": "v_QKBTMMNw9X",
        "colab_type": "text"
      },
      "source": [
        "**1.2** Write a Python program to implement your own myfilter() function which works exactly\n",
        "like Python's built-in function filter()"
      ]
    },
    {
      "cell_type": "markdown",
      "metadata": {
        "id": "RFeCu2KlN6nG",
        "colab_type": "text"
      },
      "source": [
        "**Sol**"
      ]
    },
    {
      "cell_type": "code",
      "metadata": {
        "id": "hBQxZv_jMyB3",
        "colab_type": "code",
        "colab": {
          "base_uri": "https://localhost:8080/",
          "height": 68
        },
        "outputId": "9daeaa4b-a1d0-4463-ec15-31a536b194c6"
      },
      "source": [
        "#filtering out the multiples of 5 from a list\n",
        "def myfilter(l):\n",
        "  final = []\n",
        "  for i in l:\n",
        "    if (i%5==0):\n",
        "      final.append(i)\n",
        "  return final\n",
        "  \n",
        "l = input(print(\"Enter the list of numbers seperated by comma\"))\n",
        "list = l.split(\",\")\n",
        "new_list= []\n",
        "for i in list:\n",
        "  new_list.append(int(i))\n",
        "\n",
        "print(\"result after myfilter is {}\".format(myfilter(new_list)))"
      ],
      "execution_count": 25,
      "outputs": [
        {
          "output_type": "stream",
          "text": [
            "Enter the list of numbers seperated by comma\n",
            "25,7,56,30,89,100\n",
            "result after myfilter is [25, 30, 100]\n"
          ],
          "name": "stdout"
        }
      ]
    },
    {
      "cell_type": "markdown",
      "metadata": {
        "id": "Xsp-r4AoPpkU",
        "colab_type": "text"
      },
      "source": [
        "**2.** Implement List comprehensions to produce the following lists.\n",
        "Write List comprehensions to produce the following Lists"
      ]
    },
    {
      "cell_type": "markdown",
      "metadata": {
        "id": "RUPcmyZ_P1fg",
        "colab_type": "text"
      },
      "source": [
        "['x', 'xx', 'xxx', 'xxxx', 'y', 'yy', 'yyy', 'yyyy', 'z', 'zz', 'zzz', 'zzzz']"
      ]
    },
    {
      "cell_type": "code",
      "metadata": {
        "id": "M2n43nx8Oce1",
        "colab_type": "code",
        "colab": {
          "base_uri": "https://localhost:8080/",
          "height": 34
        },
        "outputId": "8935a36f-daed-40df-e423-5cd6eaa3c4fe"
      },
      "source": [
        "l = ['x','y','z']\n",
        "list = [items*i for items in l for i in range(1,5)]\n",
        "print(list)"
      ],
      "execution_count": 33,
      "outputs": [
        {
          "output_type": "stream",
          "text": [
            "['x', 'xx', 'xxx', 'xxxx', 'y', 'yy', 'yyy', 'yyyy', 'z', 'zz', 'zzz', 'zzzz']\n"
          ],
          "name": "stdout"
        }
      ]
    },
    {
      "cell_type": "markdown",
      "metadata": {
        "id": "Ens6AjUhVnG1",
        "colab_type": "text"
      },
      "source": [
        "['x', 'y', 'z', 'xx', 'yy', 'zz', 'xxx', 'yyy', 'zzz', 'xxxx', 'yyyy', 'zzzz']"
      ]
    },
    {
      "cell_type": "code",
      "metadata": {
        "id": "l02p2bmQQHFw",
        "colab_type": "code",
        "colab": {
          "base_uri": "https://localhost:8080/",
          "height": 34
        },
        "outputId": "f055bbf0-5935-41b9-fe4e-3295c76c8b0c"
      },
      "source": [
        "l = ['x','y','z']\n",
        "list = [items*i for i in range(1,5) for items in l]\n",
        "print(list)"
      ],
      "execution_count": 36,
      "outputs": [
        {
          "output_type": "stream",
          "text": [
            "['x', 'y', 'z', 'xx', 'yy', 'zz', 'xxx', 'yyy', 'zzz', 'xxxx', 'yyyy', 'zzzz']\n"
          ],
          "name": "stdout"
        }
      ]
    },
    {
      "cell_type": "markdown",
      "metadata": {
        "id": "ORKtFAu4Wygr",
        "colab_type": "text"
      },
      "source": [
        "[[2], [3], [4], [3], [4], [5], [4], [5], [6]] [[2, 3, 4, 5], [3, 4, 5, 6],[4, 5, 6, 7], [5, 6, 7, 8]]"
      ]
    },
    {
      "cell_type": "code",
      "metadata": {
        "id": "_Q1v39oPVyCR",
        "colab_type": "code",
        "colab": {
          "base_uri": "https://localhost:8080/",
          "height": 34
        },
        "outputId": "d0df7ea4-662c-4d8d-d5da-a9064e446542"
      },
      "source": [
        "#[[2],[3],[4],[3],[4],[5][6]]\n",
        "l = [1,2,3]\n",
        "list = [[item+i] for item in l for i in range(1,4)]\n",
        "list1 = [[item+i for item in l] for  i in range(1,6)]\n",
        "print(list,list1)"
      ],
      "execution_count": 49,
      "outputs": [
        {
          "output_type": "stream",
          "text": [
            "[[2], [3], [4], [3], [4], [5], [4], [5], [6]] [[2, 3, 4], [3, 4, 5], [4, 5, 6], [5, 6, 7], [6, 7, 8]]\n"
          ],
          "name": "stdout"
        }
      ]
    },
    {
      "cell_type": "markdown",
      "metadata": {
        "id": "WFSBh9QQaF0G",
        "colab_type": "text"
      },
      "source": [
        "[(1, 1), (2, 1), (3, 1), (1, 2), (2, 2), (3, 2), (1, 3), (2, 3), (3, 3)]"
      ]
    },
    {
      "cell_type": "code",
      "metadata": {
        "id": "d7JSmaz3YJCW",
        "colab_type": "code",
        "colab": {
          "base_uri": "https://localhost:8080/",
          "height": 34
        },
        "outputId": "c35b4bc4-662b-4508-d099-b02f49575fad"
      },
      "source": [
        "l = [1,2,3]\n",
        "list = [(a,b) for b in l for a in l ]\n",
        "print(list)"
      ],
      "execution_count": 51,
      "outputs": [
        {
          "output_type": "stream",
          "text": [
            "[(1, 1), (2, 1), (3, 1), (1, 2), (2, 2), (3, 2), (1, 3), (2, 3), (3, 3)]\n"
          ],
          "name": "stdout"
        }
      ]
    }
  ]
}