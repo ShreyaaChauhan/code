{
  "nbformat": 4,
  "nbformat_minor": 0,
  "metadata": {
    "colab": {
      "name": "Assignment4.ipynb",
      "provenance": [],
      "authorship_tag": "ABX9TyOqVOrqAWQ/2Mz7S/fSAAY9",
      "include_colab_link": true
    },
    "kernelspec": {
      "name": "python3",
      "display_name": "Python 3"
    }
  },
  "cells": [
    {
      "cell_type": "markdown",
      "metadata": {
        "id": "view-in-github",
        "colab_type": "text"
      },
      "source": [
        "<a href=\"https://colab.research.google.com/github/ShreyaaChauhan/code/blob/master/Assignment4.ipynb\" target=\"_parent\"><img src=\"https://colab.research.google.com/assets/colab-badge.svg\" alt=\"Open In Colab\"/></a>"
      ]
    },
    {
      "cell_type": "markdown",
      "metadata": {
        "id": "P7qDfjYDnXBd",
        "colab_type": "text"
      },
      "source": [
        "**1.1** Write a Python Program(with class concepts) to find the area of the triangle using the below\n",
        "formula.\n",
        "\n",
        "area = (s*(s-a)*(s-b)*(s-c)) ** 0.5\n",
        "\n",
        "Function to take the length of the sides of triangle from user should be defined in the parent\n",
        "class and function to calculate the area should be defined in subclass."
      ]
    },
    {
      "cell_type": "markdown",
      "metadata": {
        "id": "hlrCc9FOnfBk",
        "colab_type": "text"
      },
      "source": [
        "**Sol**"
      ]
    },
    {
      "cell_type": "code",
      "metadata": {
        "id": "_-kMRknYmvNG",
        "colab_type": "code",
        "colab": {
          "base_uri": "https://localhost:8080/",
          "height": 85
        },
        "outputId": "08a719ec-2ba9-4331-e545-3a64569dc905"
      },
      "source": [
        "import sys\n",
        "import math\n",
        "\n",
        "a = float(input(\"Enter first side of triangle \"))\n",
        "b = float(input(\"Enter second side of triangle \"))\n",
        "c = float(input(\"Enter third side of triangle \"))\n",
        "s= (a+b+c)/2\n",
        "class Parent:\n",
        "  def __init__(self,a,b,c):\n",
        "    self.a = a\n",
        "    self.b = b \n",
        "    self.c = c\n",
        "  \n",
        "\n",
        "class Sub(Parent):\n",
        "  def __init__(self,s,*args):\n",
        "    super(Sub, self).__init__(*args)\n",
        "    self.s = s\n",
        "\n",
        "  def area(self):\n",
        "    area = math.sqrt(s*(s-a)*(s-b)*(s-c))\n",
        "    print(\"The area of triangle is \",area)\n",
        "\n",
        "y = Sub(s,a,b,c)\n",
        "y.area()\n"
      ],
      "execution_count": 4,
      "outputs": [
        {
          "output_type": "stream",
          "text": [
            "Enter first side of triangle 2\n",
            "Enter second side of triangle 3\n",
            "Enter third side of triangle 4\n",
            "The area of triangle is  2.9047375096555625\n"
          ],
          "name": "stdout"
        }
      ]
    },
    {
      "cell_type": "markdown",
      "metadata": {
        "id": "bIjwLWRinkzK",
        "colab_type": "text"
      },
      "source": [
        "**1.2**    Write a function filter_long_words() that takes a list of words and an integer n and returns\n",
        "the list of words that are longer than n."
      ]
    },
    {
      "cell_type": "markdown",
      "metadata": {
        "id": "g6hNmeW0pgdu",
        "colab_type": "text"
      },
      "source": [
        "**Sol**"
      ]
    },
    {
      "cell_type": "code",
      "metadata": {
        "id": "jd-gCzx3mwj6",
        "colab_type": "code",
        "colab": {
          "base_uri": "https://localhost:8080/",
          "height": 102
        },
        "outputId": "8189e75b-59be-4b68-a40b-4820466d59f8"
      },
      "source": [
        "def filter_long_words(l,n):\n",
        "  new_list= []\n",
        "  for i in l:\n",
        "    if len(i)>n:\n",
        "      new_list.append(i)\n",
        "  return new_list\n",
        "\n",
        "l = input(print(\"Enter the list of words seperated by comma\"))\n",
        "list = l.split(\",\")\n",
        "n = int(input(print(\"Enter the minimun lenght you want for word\")))\n",
        "print(filter_long_words(list,n))"
      ],
      "execution_count": 6,
      "outputs": [
        {
          "output_type": "stream",
          "text": [
            "Enter the list of words seperated by comma\n",
            "shreya,chauhan,df\n",
            "Enter the minimun lenght you want for word\n",
            "3\n",
            "['shreya', 'chauhan']\n"
          ],
          "name": "stdout"
        }
      ]
    },
    {
      "cell_type": "markdown",
      "metadata": {
        "id": "oAd11ylgpq1k",
        "colab_type": "text"
      },
      "source": [
        "**2.1** Write a Python program using function concept that maps list of words into a list of integers\n",
        "representing the lengths of the corresponding words.\n",
        "Hint: If a list [ ab,cde,erty] is passed on to the python function output should come as [2,3,4]\n",
        "Here 2,3 and 4 are the lengths of the words in the list."
      ]
    },
    {
      "cell_type": "markdown",
      "metadata": {
        "id": "S_aut3OUtJZk",
        "colab_type": "text"
      },
      "source": [
        "**Sol**"
      ]
    },
    {
      "cell_type": "code",
      "metadata": {
        "id": "p5J74gYLnLfq",
        "colab_type": "code",
        "colab": {
          "base_uri": "https://localhost:8080/",
          "height": 51
        },
        "outputId": "f463b4d3-1312-4079-fecc-ff57169b3168"
      },
      "source": [
        "def Word_Map_Int(l):\n",
        "  new_list = []\n",
        "  for i in l:\n",
        "    new_list.append(len(i))\n",
        "  return new_list\n",
        "\n",
        "l = input(\"Enter the list of words \")\n",
        "list = l.split(\",\")\n",
        "Word_Map_Int(list)\n",
        "print(Word_Map_Int(list))"
      ],
      "execution_count": 11,
      "outputs": [
        {
          "output_type": "stream",
          "text": [
            "Enter the list of words shreya,chauhan,rajat,thakur\n",
            "[6, 7, 5, 6]\n"
          ],
          "name": "stdout"
        }
      ]
    },
    {
      "cell_type": "markdown",
      "metadata": {
        "id": "llPdztyusEU_",
        "colab_type": "text"
      },
      "source": [
        "**2.2** Write a Python function which takes a character (i.e. a string of length 1) and returns True if\n",
        "it is a vowel, False otherwise."
      ]
    },
    {
      "cell_type": "markdown",
      "metadata": {
        "id": "c9f_YlrdtPPB",
        "colab_type": "text"
      },
      "source": [
        "**Sol**"
      ]
    },
    {
      "cell_type": "code",
      "metadata": {
        "id": "6BojvszVqJ7N",
        "colab_type": "code",
        "colab": {
          "base_uri": "https://localhost:8080/",
          "height": 51
        },
        "outputId": "5ee2ed65-84d2-4c22-f485-21409ef42c82"
      },
      "source": [
        "def vowel_finder(s):\n",
        "  if s=='a' or s=='e' or s=='i' or s=='o' or s =='u':\n",
        "    return True\n",
        "  else:\n",
        "    return False \n",
        "\n",
        "s = input(\"Enter Character \")\n",
        "print(vowel_finder(s))"
      ],
      "execution_count": 15,
      "outputs": [
        {
          "output_type": "stream",
          "text": [
            "Enter Character r\n",
            "False\n"
          ],
          "name": "stdout"
        }
      ]
    }
  ]
}