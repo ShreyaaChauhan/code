{
  "nbformat": 4,
  "nbformat_minor": 0,
  "metadata": {
    "colab": {
      "name": "Assignment5.ipynb",
      "provenance": [],
      "authorship_tag": "ABX9TyMkriUppxn8Khp/KXfyvHTg",
      "include_colab_link": true
    },
    "kernelspec": {
      "name": "python3",
      "display_name": "Python 3"
    }
  },
  "cells": [
    {
      "cell_type": "markdown",
      "metadata": {
        "id": "view-in-github",
        "colab_type": "text"
      },
      "source": [
        "<a href=\"https://colab.research.google.com/github/ShreyaaChauhan/code/blob/master/Assignment5.ipynb\" target=\"_parent\"><img src=\"https://colab.research.google.com/assets/colab-badge.svg\" alt=\"Open In Colab\"/></a>"
      ]
    },
    {
      "cell_type": "markdown",
      "metadata": {
        "id": "6VuMawrM_9WJ",
        "colab_type": "text"
      },
      "source": [
        "**1.** Write a function to compute 5/0 and use try/except to catch the exceptions."
      ]
    },
    {
      "cell_type": "markdown",
      "metadata": {
        "id": "UsV8s9JLDQyp",
        "colab_type": "text"
      },
      "source": [
        "**Sol**"
      ]
    },
    {
      "cell_type": "code",
      "metadata": {
        "id": "ndihpPr5_wqd",
        "colab_type": "code",
        "colab": {
          "base_uri": "https://localhost:8080/",
          "height": 68
        },
        "outputId": "fd5f4b77-57a4-4f36-95ac-6c483eddbf16"
      },
      "source": [
        "def TRY():\n",
        "  try:\n",
        "    a = int(input(\"Enter divident \"))\n",
        "    b = int(input(\"Enter divisior \"))\n",
        "    result = a/b\n",
        "    print(\"result is {}\".format(result))\n",
        "  except:\n",
        "    print(\"It is impossible to divide a no. by zero\") \n",
        "\n",
        "TRY()"
      ],
      "execution_count": 8,
      "outputs": [
        {
          "output_type": "stream",
          "text": [
            "Enter divident 15\n",
            "Enter divisior 6\n",
            "result is 2.5\n"
          ],
          "name": "stdout"
        }
      ]
    },
    {
      "cell_type": "markdown",
      "metadata": {
        "id": "7luGO6VMBHww",
        "colab_type": "text"
      },
      "source": [
        "**2.**  Implement a Python program to generate all sentences where subject is in\n",
        "[\"Americans\", \"Indians\"] and verb is in [\"Play\", \"watch\"] and the object is in\n",
        "[\"Baseball\",\"cricket\"].\n",
        "\n",
        "Hint: Subject,Verb and Object should be declared in the program as shown below.\n",
        "\n",
        "subjects=[\"Americans \",\"Indians\"]\n",
        "\n",
        "verbs=[\"play\",\"watch\"]\n",
        "\n",
        "objects=[\"Baseball\",\"Cricket\"]"
      ]
    },
    {
      "cell_type": "markdown",
      "metadata": {
        "id": "DkF9fpNpDYiT",
        "colab_type": "text"
      },
      "source": [
        "**Sol**"
      ]
    },
    {
      "cell_type": "code",
      "metadata": {
        "id": "VImfW_uoAwa1",
        "colab_type": "code",
        "colab": {
          "base_uri": "https://localhost:8080/",
          "height": 153
        },
        "outputId": "4392e299-bf11-43fe-b027-f61b4e7aa275"
      },
      "source": [
        "subjects = [\"Americans\",\"Indians\"]\n",
        "verbs = [\"play\",\"watch\"]\n",
        "objects = [\"Baseball\",\"Cricket\"]\n",
        "for i in subjects:\n",
        "  for j in verbs:\n",
        "    for k in objects:\n",
        "      print(i,j,k)"
      ],
      "execution_count": 6,
      "outputs": [
        {
          "output_type": "stream",
          "text": [
            "Americans play Baseball\n",
            "Americans play Cricket\n",
            "Americans watch Baseball\n",
            "Americans watch Cricket\n",
            "Indians play Baseball\n",
            "Indians play Cricket\n",
            "Indians watch Baseball\n",
            "Indians watch Cricket\n"
          ],
          "name": "stdout"
        }
      ]
    }
  ]
}