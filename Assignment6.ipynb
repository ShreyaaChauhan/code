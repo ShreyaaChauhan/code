{
  "nbformat": 4,
  "nbformat_minor": 0,
  "metadata": {
    "colab": {
      "name": "Assignment6.ipynb",
      "provenance": [],
      "authorship_tag": "ABX9TyOY+azEozZLACYGrDvqCaNl",
      "include_colab_link": true
    },
    "kernelspec": {
      "name": "python3",
      "display_name": "Python 3"
    }
  },
  "cells": [
    {
      "cell_type": "markdown",
      "metadata": {
        "id": "view-in-github",
        "colab_type": "text"
      },
      "source": [
        "<a href=\"https://colab.research.google.com/github/ShreyaaChauhan/code/blob/master/Assignment6.ipynb\" target=\"_parent\"><img src=\"https://colab.research.google.com/assets/colab-badge.svg\" alt=\"Open In Colab\"/></a>"
      ]
    },
    {
      "cell_type": "markdown",
      "metadata": {
        "id": "UDOj6c_8Y_Hp",
        "colab_type": "text"
      },
      "source": [
        "**1** Some values in the the FlightNumber column are missing. These numbers are\n",
        "meant to increase by 10 with each row so 10055 and 10075 need to be put in\n",
        "place. Fill in these missing numbers and make the column an integer column\n",
        "(instead of a float column)."
      ]
    },
    {
      "cell_type": "markdown",
      "metadata": {
        "id": "zWM7B42MdbVx",
        "colab_type": "text"
      },
      "source": [
        "**Sol**"
      ]
    },
    {
      "cell_type": "code",
      "metadata": {
        "id": "dLt8JJMEY-fj",
        "colab_type": "code",
        "colab": {
          "base_uri": "https://localhost:8080/",
          "height": 119
        },
        "outputId": "512354fa-d09e-4878-a479-e4e0a2401a3b"
      },
      "source": [
        "import numpy as np\n",
        "import pandas as pd\n",
        "df = pd.DataFrame({'From_To': ['LoNDon_paris', 'MAdrid_miLAN','londON_StockhOlm','Budapest_PaRis', 'Brussels_londOn'],\n",
        "                  'FlightNumber': [10045, np.nan, 10065, np.nan, 10085],\n",
        "                  'RecentDelays': [[23, 47], [], [24, 43, 87], [13], [67, 32]],\n",
        "                  'Airline': ['KLM(!)', '<Air France> (12)', '(British Airways. )','12. Air France', '\"Swiss Air\"']})\n",
        "new_index = np.arange(1,df.From_To.count()+1)\n",
        "df.set_index(new_index, inplace=True)\n",
        "for i in np.arange(1,df.From_To.count()+1):\n",
        "  if(pd.isnull(df.FlightNumber.loc[i,])):\n",
        "    df.loc[i,'FlightNumber'] = df.FlightNumber.loc[i-1]+10\n",
        "\n",
        "print(df['FlightNumber'].astype(int))\n"
      ],
      "execution_count": 41,
      "outputs": [
        {
          "output_type": "stream",
          "text": [
            "1    10045\n",
            "2    10055\n",
            "3    10065\n",
            "4    10075\n",
            "5    10085\n",
            "Name: FlightNumber, dtype: int64\n"
          ],
          "name": "stdout"
        }
      ]
    },
    {
      "cell_type": "markdown",
      "metadata": {
        "id": "l48jv6DKdffQ",
        "colab_type": "text"
      },
      "source": [
        "**2** The From_To column would be better as two separate columns! Split each\n",
        "string on the underscore delimiter _ to give a new temporary DataFrame with\n",
        "the correct values. Assign the correct column names to this temporary\n",
        "DataFrame."
      ]
    },
    {
      "cell_type": "markdown",
      "metadata": {
        "id": "jbZ2XO1QgpHM",
        "colab_type": "text"
      },
      "source": [
        "**Sol**"
      ]
    },
    {
      "cell_type": "code",
      "metadata": {
        "id": "acVRJXs3dfCP",
        "colab_type": "code",
        "colab": {
          "base_uri": "https://localhost:8080/",
          "height": 153
        },
        "outputId": "72e28ab0-9bc9-4268-99b6-8c813ca74511"
      },
      "source": [
        "temporary_dataframe = df.copy()\n",
        "#print(temporary_dataframe)\n",
        "temporary_dataframe[['From','To']] = df.From_To.str.split(\"_\", expand=True)\n",
        "print(temporary_dataframe)"
      ],
      "execution_count": 42,
      "outputs": [
        {
          "output_type": "stream",
          "text": [
            "            From_To  FlightNumber  ...      From         To\n",
            "1      LoNDon_paris       10045.0  ...    LoNDon      paris\n",
            "2      MAdrid_miLAN       10055.0  ...    MAdrid      miLAN\n",
            "3  londON_StockhOlm       10065.0  ...    londON  StockhOlm\n",
            "4    Budapest_PaRis       10075.0  ...  Budapest      PaRis\n",
            "5   Brussels_londOn       10085.0  ...  Brussels     londOn\n",
            "\n",
            "[5 rows x 6 columns]\n"
          ],
          "name": "stdout"
        }
      ]
    },
    {
      "cell_type": "markdown",
      "metadata": {
        "id": "NpzPJhDtfI9M",
        "colab_type": "text"
      },
      "source": [
        "**3.** Notice how the capitalisation of the city names is all mixed up in this\n",
        "temporary DataFrame. Standardise the strings so that only the first letter is\n",
        "uppercase (e.g. \"londON\" should become \"London\".)"
      ]
    },
    {
      "cell_type": "markdown",
      "metadata": {
        "id": "HaIVV-SxgwQ-",
        "colab_type": "text"
      },
      "source": [
        "**Sol**"
      ]
    },
    {
      "cell_type": "code",
      "metadata": {
        "id": "51maZYJdg2ph",
        "colab_type": "code",
        "colab": {
          "base_uri": "https://localhost:8080/",
          "height": 153
        },
        "outputId": "db5cdc35-999e-4da8-eaab-19a9e5c37c7a"
      },
      "source": [
        "temporary_dataframe.From = temporary_dataframe.From.str.capitalize()\n",
        "temporary_dataframe.To = temporary_dataframe.To.str.capitalize()\n",
        "print(temporary_dataframe)"
      ],
      "execution_count": 43,
      "outputs": [
        {
          "output_type": "stream",
          "text": [
            "            From_To  FlightNumber  ...      From         To\n",
            "1      LoNDon_paris       10045.0  ...    London      Paris\n",
            "2      MAdrid_miLAN       10055.0  ...    Madrid      Milan\n",
            "3  londON_StockhOlm       10065.0  ...    London  Stockholm\n",
            "4    Budapest_PaRis       10075.0  ...  Budapest      Paris\n",
            "5   Brussels_londOn       10085.0  ...  Brussels     London\n",
            "\n",
            "[5 rows x 6 columns]\n"
          ],
          "name": "stdout"
        }
      ]
    },
    {
      "cell_type": "markdown",
      "metadata": {
        "id": "WWw81HjRgj7o",
        "colab_type": "text"
      },
      "source": [
        "**4.** Delete the From_To column from df and attach the temporary DataFrame\n",
        "from the previous questions."
      ]
    },
    {
      "cell_type": "markdown",
      "metadata": {
        "id": "_Sob9de5g0pe",
        "colab_type": "text"
      },
      "source": [
        "**Sol**"
      ]
    },
    {
      "cell_type": "code",
      "metadata": {
        "id": "ODJxAq8BgAxG",
        "colab_type": "code",
        "colab": {
          "base_uri": "https://localhost:8080/",
          "height": 119
        },
        "outputId": "b6440e8f-faec-4539-ee3b-02944d5809ca"
      },
      "source": [
        "df.drop('From_To',axis=1,inplace = True)\n",
        "df['From_To'] = temporary_dataframe['From_To']\n",
        "print(df)"
      ],
      "execution_count": 45,
      "outputs": [
        {
          "output_type": "stream",
          "text": [
            "   FlightNumber  RecentDelays              Airline           From_To\n",
            "1       10045.0      [23, 47]               KLM(!)      LoNDon_paris\n",
            "2       10055.0            []    <Air France> (12)      MAdrid_miLAN\n",
            "3       10065.0  [24, 43, 87]  (British Airways. )  londON_StockhOlm\n",
            "4       10075.0          [13]       12. Air France    Budapest_PaRis\n",
            "5       10085.0      [67, 32]          \"Swiss Air\"   Brussels_londOn\n"
          ],
          "name": "stdout"
        }
      ]
    },
    {
      "cell_type": "code",
      "metadata": {
        "id": "QX6ETFbYhPWQ",
        "colab_type": "code",
        "colab": {
          "base_uri": "https://localhost:8080/",
          "height": 119
        },
        "outputId": "dd75ac02-c310-4f70-9e92-2d15107a825a"
      },
      "source": [
        "#df.drop('From_To',axis=1,inplace = True)\n",
        "#df[['From_To','From','To']] = temporary_dataframe[['From_To','From','To']]\n",
        "#print(df[['From_To','From','To']])"
      ],
      "execution_count": 47,
      "outputs": [
        {
          "output_type": "stream",
          "text": [
            "            From_To      From         To\n",
            "1      LoNDon_paris    London      Paris\n",
            "2      MAdrid_miLAN    Madrid      Milan\n",
            "3  londON_StockhOlm    London  Stockholm\n",
            "4    Budapest_PaRis  Budapest      Paris\n",
            "5   Brussels_londOn  Brussels     London\n"
          ],
          "name": "stdout"
        }
      ]
    },
    {
      "cell_type": "markdown",
      "metadata": {
        "id": "z2H7KK9ijniU",
        "colab_type": "text"
      },
      "source": [
        "**5.** In the RecentDelays column, the values have been entered into the\n",
        "DataFrame as a list. We would like each first value in its own column, each\n",
        "\n",
        "second value in its own column, and so on. If there isn't an Nth value, the value\n",
        "should be NaN.\n",
        "Expand the Series of lists into a DataFrame named delays, rename the columns\n",
        "delay_1, delay_2, etc. and replace the unwanted RecentDelays column in df\n",
        "with delays."
      ]
    },
    {
      "cell_type": "markdown",
      "metadata": {
        "id": "waA0IKCLjyJU",
        "colab_type": "text"
      },
      "source": [
        "**Sol**"
      ]
    },
    {
      "cell_type": "code",
      "metadata": {
        "id": "8AS_Ze0QjxhB",
        "colab_type": "code",
        "colab": {
          "base_uri": "https://localhost:8080/",
          "height": 119
        },
        "outputId": "28cd4269-7a05-4fae-95fd-e04e59d11a14"
      },
      "source": [
        "df_new = pd.DataFrame(df['RecentDelays'].values.tolist())\n",
        "print(df_new)"
      ],
      "execution_count": 100,
      "outputs": [
        {
          "output_type": "stream",
          "text": [
            "      0     1     2\n",
            "0  23.0  47.0   NaN\n",
            "1   NaN   NaN   NaN\n",
            "2  24.0  43.0  87.0\n",
            "3  13.0   NaN   NaN\n",
            "4  67.0  32.0   NaN\n"
          ],
          "name": "stdout"
        }
      ]
    },
    {
      "cell_type": "code",
      "metadata": {
        "id": "E8HfpkdAr9Y3",
        "colab_type": "code",
        "colab": {
          "base_uri": "https://localhost:8080/",
          "height": 119
        },
        "outputId": "bc701683-7b9c-4107-d5bd-490c02795ecb"
      },
      "source": [
        "df_new.columns = ['delay_1', 'delay_2','delay_3']\n",
        "df_new.index = [1,2,3,4,5]\n",
        "print(df_new)"
      ],
      "execution_count": 105,
      "outputs": [
        {
          "output_type": "stream",
          "text": [
            "   delay_1  delay_2  delay_3\n",
            "1     23.0     47.0      NaN\n",
            "2      NaN      NaN      NaN\n",
            "3     24.0     43.0     87.0\n",
            "4     13.0      NaN      NaN\n",
            "5     67.0     32.0      NaN\n"
          ],
          "name": "stdout"
        }
      ]
    },
    {
      "cell_type": "code",
      "metadata": {
        "id": "3X7hhd2AjYzw",
        "colab_type": "code",
        "colab": {
          "base_uri": "https://localhost:8080/",
          "height": 153
        },
        "outputId": "c0d794a5-9782-4873-c1e3-6a0033830cb8"
      },
      "source": [
        "df[['delay_1','delay_2','delay_3']] = df_new[['delay_1','delay_2','delay_3']]\n",
        "print(df)"
      ],
      "execution_count": 106,
      "outputs": [
        {
          "output_type": "stream",
          "text": [
            "   FlightNumber  RecentDelays              Airline  ... delay_1 delay_2 delay_3\n",
            "1       10045.0      [23, 47]               KLM(!)  ...    23.0    47.0     NaN\n",
            "2       10055.0            []    <Air France> (12)  ...     NaN     NaN     NaN\n",
            "3       10065.0  [24, 43, 87]  (British Airways. )  ...    24.0    43.0    87.0\n",
            "4       10075.0          [13]       12. Air France  ...    13.0     NaN     NaN\n",
            "5       10085.0      [67, 32]          \"Swiss Air\"  ...    67.0    32.0     NaN\n",
            "\n",
            "[5 rows x 9 columns]\n"
          ],
          "name": "stdout"
        }
      ]
    }
  ]
}