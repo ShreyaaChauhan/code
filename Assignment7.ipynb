{
  "nbformat": 4,
  "nbformat_minor": 0,
  "metadata": {
    "colab": {
      "name": "Assignment7.ipynb",
      "provenance": [],
      "authorship_tag": "ABX9TyM/X4Ju0we4JBXSrlRS81sF",
      "include_colab_link": true
    },
    "kernelspec": {
      "name": "python3",
      "display_name": "Python 3"
    }
  },
  "cells": [
    {
      "cell_type": "markdown",
      "metadata": {
        "id": "view-in-github",
        "colab_type": "text"
      },
      "source": [
        "<a href=\"https://colab.research.google.com/github/ShreyaaChauhan/code/blob/master/Assignment7.ipynb\" target=\"_parent\"><img src=\"https://colab.research.google.com/assets/colab-badge.svg\" alt=\"Open In Colab\"/></a>"
      ]
    },
    {
      "cell_type": "markdown",
      "metadata": {
        "id": "HbLSZqmzisKB",
        "colab_type": "text"
      },
      "source": [
        "**1** Write a function so that the columns of the output matrix are powers of the input\n",
        "vector."
      ]
    },
    {
      "cell_type": "markdown",
      "metadata": {
        "id": "7wp8mq8ri4FK",
        "colab_type": "text"
      },
      "source": [
        "**Sol** "
      ]
    },
    {
      "cell_type": "code",
      "metadata": {
        "id": "6Mhb2fDj0joB",
        "colab_type": "code",
        "colab": {
          "base_uri": "https://localhost:8080/",
          "height": 136
        },
        "outputId": "42c7e218-a87a-4a36-bcd2-de7f407c1ec8"
      },
      "source": [
        "import numpy as np\n",
        "a = input(\"enter the list separated by comma\\n\")\n",
        "l = a.split(',')\n",
        "\n",
        "new_list = [int(i) for i in l]\n",
        "print(\"Entered vector is \",new_list) \n",
        "\n",
        "def function_vander(l,new_list):\n",
        "  final_list =[[x**i for i in range(0,len(l))] for x in new_list]\n",
        "  final_matrix = np.mat(final_list)\n",
        "  print(\"vander matrix is \\n \",np.flip(final_matrix, axis=1))\n",
        "\n",
        "function_vander(l,new_list)\n",
        "\n",
        "\n"
      ],
      "execution_count": 74,
      "outputs": [
        {
          "output_type": "stream",
          "text": [
            "enter the list separated by comma\n",
            "1,2,3\n",
            "Entered vector is  [1, 2, 3]\n",
            "vander matrix is \n",
            "  [[1 1 1]\n",
            " [4 2 1]\n",
            " [9 3 1]]\n"
          ],
          "name": "stdout"
        }
      ]
    },
    {
      "cell_type": "markdown",
      "metadata": {
        "id": "Mp4pwT-gi_kH",
        "colab_type": "text"
      },
      "source": [
        "**Inbuilt Vander function in numpy**"
      ]
    },
    {
      "cell_type": "code",
      "metadata": {
        "id": "jlVQ-RTyVg_g",
        "colab_type": "code",
        "colab": {
          "base_uri": "https://localhost:8080/",
          "height": 85
        },
        "outputId": "8c63f864-7346-4813-dde7-0f7cc97cc0e5"
      },
      "source": [
        "x = np.array([1, 2, 3,4])\n",
        "N = 4\n",
        "np.vander(x, N)"
      ],
      "execution_count": 68,
      "outputs": [
        {
          "output_type": "execute_result",
          "data": {
            "text/plain": [
              "array([[ 1,  1,  1,  1],\n",
              "       [ 8,  4,  2,  1],\n",
              "       [27,  9,  3,  1],\n",
              "       [64, 16,  4,  1]])"
            ]
          },
          "metadata": {
            "tags": []
          },
          "execution_count": 68
        }
      ]
    },
    {
      "cell_type": "markdown",
      "metadata": {
        "id": "PDc2Rg28jOYt",
        "colab_type": "text"
      },
      "source": [
        "**2** Write a function to find moving average in an array over a window:\n",
        "Test it over [3, 5, 7, 2, 8, 10, 11, 65, 72, 81, 99, 100, 150] and window of 3."
      ]
    },
    {
      "cell_type": "markdown",
      "metadata": {
        "id": "Mtm20AyVjUvM",
        "colab_type": "text"
      },
      "source": [
        "**Sol**"
      ]
    },
    {
      "cell_type": "markdown",
      "metadata": {
        "id": "0sGmkIm7t9d0",
        "colab_type": "text"
      },
      "source": [
        "**When list and window are given/specified**"
      ]
    },
    {
      "cell_type": "code",
      "metadata": {
        "id": "SHb7-nATd2xZ",
        "colab_type": "code",
        "colab": {
          "base_uri": "https://localhost:8080/",
          "height": 34
        },
        "outputId": "16233723-b4ca-4810-c8f8-14f59b3f7d5d"
      },
      "source": [
        "l = [3, 5, 7, 2, 8, 10, 11, 65, 72, 81, 99, 100, 150]\n",
        "y=[]\n",
        "for i in range(0,len(l)-2):\n",
        "  y.append(int((l[i]+l[i+1]+l[i+2])/3))\n",
        "\n",
        "print(\"moving average in an array over a window is :\",y)"
      ],
      "execution_count": 119,
      "outputs": [
        {
          "output_type": "stream",
          "text": [
            "moving average in an array over a window is : [5, 4, 5, 6, 9, 28, 49, 72, 84, 93, 116]\n"
          ],
          "name": "stdout"
        }
      ]
    },
    {
      "cell_type": "markdown",
      "metadata": {
        "id": "KeHg5MoquEze",
        "colab_type": "text"
      },
      "source": [
        "**When list and window are taken  by user**"
      ]
    },
    {
      "cell_type": "code",
      "metadata": {
        "id": "nrPY617PmzOR",
        "colab_type": "code",
        "colab": {
          "base_uri": "https://localhost:8080/",
          "height": 68
        },
        "outputId": "4694de95-9602-44ee-8a17-56032b92c465"
      },
      "source": [
        "list = input(\"Enter list seperated by commas\")\n",
        "window = int(input(\"Enter window size\"))\n",
        "c = list.split(',')\n",
        "l = [ int(i) for i in c]\n",
        "\n",
        "def Window_sum(list,window):\n",
        "  sum = []\n",
        "  for i in range(0,len(list)-(window-1)):\n",
        "    a = 0\n",
        "    for i in range(i,i+window):\n",
        "      a = a + list[i]\n",
        "    sum.append(int(a/window))\n",
        "  print(\"moving average in an array over a window is:\",sum)\n",
        "  \n",
        "Window_sum(l,window)"
      ],
      "execution_count": 120,
      "outputs": [
        {
          "output_type": "stream",
          "text": [
            "Enter list seperated by commas1,2,3,4,5,6,7,8,9,10\n",
            "Enter window size3\n",
            "moving average in an array over a window is: [2, 3, 4, 5, 6, 7, 8, 9]\n"
          ],
          "name": "stdout"
        }
      ]
    }
  ]
}