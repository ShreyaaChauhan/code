{
  "nbformat": 4,
  "nbformat_minor": 0,
  "metadata": {
    "colab": {
      "name": "Assignment 1.ipynb",
      "provenance": [],
      "authorship_tag": "ABX9TyNqQjYHT8fHzZ7NnjIua7Wy",
      "include_colab_link": true
    },
    "kernelspec": {
      "name": "python3",
      "display_name": "Python 3"
    }
  },
  "cells": [
    {
      "cell_type": "markdown",
      "metadata": {
        "id": "view-in-github",
        "colab_type": "text"
      },
      "source": [
        "<a href=\"https://colab.research.google.com/github/ShreyaaChauhan/code/blob/master/Assignment_1.ipynb\" target=\"_parent\"><img src=\"https://colab.research.google.com/assets/colab-badge.svg\" alt=\"Open In Colab\"/></a>"
      ]
    },
    {
      "cell_type": "markdown",
      "metadata": {
        "id": "-UKy6Qs-wxFZ",
        "colab_type": "text"
      },
      "source": [
        "**1.** Write a program which will find all such numbers which are divisible by 7 but are not a multiple of 5, between 2000 and 3200 (both included). The numbers obtained should be printed in a comma-separated sequence on a single line."
      ]
    },
    {
      "cell_type": "markdown",
      "metadata": {
        "id": "K-AkxQp80lkL",
        "colab_type": "text"
      },
      "source": [
        "Sol."
      ]
    },
    {
      "cell_type": "code",
      "metadata": {
        "id": "fUeJmSyBxAdq",
        "colab_type": "code",
        "colab": {
          "base_uri": "https://localhost:8080/",
          "height": 54
        },
        "outputId": "172710a2-c971-4e69-a7a0-77885a73bfe6"
      },
      "source": [
        "l=[]\n",
        "for i in range(2000,3201):\n",
        "  if(i%7==0 and i%5!=0):\n",
        "    l.append(i)\n",
        "print(l, sep=\",\" )\n"
      ],
      "execution_count": 5,
      "outputs": [
        {
          "output_type": "stream",
          "text": [
            "[2002, 2009, 2016, 2023, 2037, 2044, 2051, 2058, 2072, 2079, 2086, 2093, 2107, 2114, 2121, 2128, 2142, 2149, 2156, 2163, 2177, 2184, 2191, 2198, 2212, 2219, 2226, 2233, 2247, 2254, 2261, 2268, 2282, 2289, 2296, 2303, 2317, 2324, 2331, 2338, 2352, 2359, 2366, 2373, 2387, 2394, 2401, 2408, 2422, 2429, 2436, 2443, 2457, 2464, 2471, 2478, 2492, 2499, 2506, 2513, 2527, 2534, 2541, 2548, 2562, 2569, 2576, 2583, 2597, 2604, 2611, 2618, 2632, 2639, 2646, 2653, 2667, 2674, 2681, 2688, 2702, 2709, 2716, 2723, 2737, 2744, 2751, 2758, 2772, 2779, 2786, 2793, 2807, 2814, 2821, 2828, 2842, 2849, 2856, 2863, 2877, 2884, 2891, 2898, 2912, 2919, 2926, 2933, 2947, 2954, 2961, 2968, 2982, 2989, 2996, 3003, 3017, 3024, 3031, 3038, 3052, 3059, 3066, 3073, 3087, 3094, 3101, 3108, 3122, 3129, 3136, 3143, 3157, 3164, 3171, 3178, 3192, 3199]\n"
          ],
          "name": "stdout"
        }
      ]
    },
    {
      "cell_type": "markdown",
      "metadata": {
        "id": "yC29vaMTyqXm",
        "colab_type": "text"
      },
      "source": [
        "**2.** Write a Python program to accept the user's first and last name and then getting them printed in the the reverse order with a space between first name and last name."
      ]
    },
    {
      "cell_type": "markdown",
      "metadata": {
        "colab_type": "text",
        "id": "3YzvLxtp0v3j"
      },
      "source": [
        "Sol."
      ]
    },
    {
      "cell_type": "code",
      "metadata": {
        "id": "D30FMLXLxrnT",
        "colab_type": "code",
        "colab": {
          "base_uri": "https://localhost:8080/",
          "height": 102
        },
        "outputId": "c1de6253-30e0-4a61-e97c-f3ae80bcbcd2"
      },
      "source": [
        "first_name = input(print(\"Enter your first name\")) [::-1]\n",
        "last_name = input(print(\"Enter your last name\")) [::-1]\n",
        "print(first_name,last_name)\n"
      ],
      "execution_count": 14,
      "outputs": [
        {
          "output_type": "stream",
          "text": [
            "Enter your first name\n",
            "NoneShreya\n",
            "Enter your last name\n",
            "NoneChauhan\n",
            "ayerhS nahuahC\n"
          ],
          "name": "stdout"
        }
      ]
    },
    {
      "cell_type": "markdown",
      "metadata": {
        "id": "cvORxdfq1zku",
        "colab_type": "text"
      },
      "source": [
        "**3.** Write a Python program to find the volume of a sphere with diameter 12cm. Formula: V=4/3 * π * r"
      ]
    },
    {
      "cell_type": "markdown",
      "metadata": {
        "colab_type": "text",
        "id": "7D6VXpJx00n0"
      },
      "source": [
        "Sol."
      ]
    },
    {
      "cell_type": "code",
      "metadata": {
        "id": "0tExnOpZzlvb",
        "colab_type": "code",
        "colab": {
          "base_uri": "https://localhost:8080/",
          "height": 34
        },
        "outputId": "1727678c-c2b9-45e9-927a-91adf73408c0"
      },
      "source": [
        "diameter = 12\n",
        "pie = 22/7\n",
        "volume= 4/3*pie*diameter/2\n",
        "print(\"Volume of a sphere\",volume)"
      ],
      "execution_count": 25,
      "outputs": [
        {
          "output_type": "stream",
          "text": [
            "Volume of a sphere 25.14285714285714\n"
          ],
          "name": "stdout"
        }
      ]
    },
    {
      "cell_type": "markdown",
      "metadata": {
        "id": "hGgwgYuM3b3H",
        "colab_type": "text"
      },
      "source": [
        "**4.** Write a progrma which accepts a sequence of comma-separated numbers from console and generate a list"
      ]
    },
    {
      "cell_type": "markdown",
      "metadata": {
        "colab_type": "text",
        "id": "74CmK5lK01he"
      },
      "source": [
        "Sol."
      ]
    },
    {
      "cell_type": "code",
      "metadata": {
        "id": "yjcbZebI2TJZ",
        "colab_type": "code",
        "colab": {
          "base_uri": "https://localhost:8080/",
          "height": 68
        },
        "outputId": "bf2f768c-9ba6-4ccb-f78e-785d2e346838"
      },
      "source": [
        "sequence = input(print(\"Enter the number\"))\n",
        "l = sequence.split(\",\")\n",
        "print(l)"
      ],
      "execution_count": 28,
      "outputs": [
        {
          "output_type": "stream",
          "text": [
            "Enter the number\n",
            "None1,2,3,4,5\n",
            "['1', '2', '3', '4', '5']\n"
          ],
          "name": "stdout"
        }
      ]
    },
    {
      "cell_type": "markdown",
      "metadata": {
        "id": "QYZjRt6J5miy",
        "colab_type": "text"
      },
      "source": [
        "**5.** Create the pattern using nested for loop in Python."
      ]
    },
    {
      "cell_type": "markdown",
      "metadata": {
        "colab_type": "text",
        "id": "R3kvxPLx02Ex"
      },
      "source": [
        "Sol."
      ]
    },
    {
      "cell_type": "code",
      "metadata": {
        "id": "my_ylDC25Yps",
        "colab_type": "code",
        "colab": {
          "base_uri": "https://localhost:8080/",
          "height": 187
        },
        "outputId": "a1f279d6-e4cf-4c54-fac6-8f3ba336f8d0"
      },
      "source": [
        "for i in range(6):\n",
        "  print(\"*\" * i)\n",
        "\n",
        "for i in range(4,0,-1):\n",
        "  print(\"*\" * i)"
      ],
      "execution_count": 32,
      "outputs": [
        {
          "output_type": "stream",
          "text": [
            "\n",
            "*\n",
            "**\n",
            "***\n",
            "****\n",
            "*****\n",
            "****\n",
            "***\n",
            "**\n",
            "*\n"
          ],
          "name": "stdout"
        }
      ]
    },
    {
      "cell_type": "markdown",
      "metadata": {
        "id": "Du0_5lJy7SsW",
        "colab_type": "text"
      },
      "source": [
        "**6.** Write a Python program to reverse a word after accepting the input from the user.\n",
        "\n",
        "Sample Output:\n",
        "\n",
        "Input word: Ineuron\n",
        "\n",
        "Output: noruenI"
      ]
    },
    {
      "cell_type": "markdown",
      "metadata": {
        "colab_type": "text",
        "id": "FePaHUWS03Yc"
      },
      "source": [
        "Sol."
      ]
    },
    {
      "cell_type": "code",
      "metadata": {
        "id": "lobJHphd6hw2",
        "colab_type": "code",
        "colab": {
          "base_uri": "https://localhost:8080/",
          "height": 51
        },
        "outputId": "a025631a-ff75-4608-fb49-4e76348d244c"
      },
      "source": [
        "word = input()\n",
        "str = \"\" \n",
        "for i in word: \n",
        "  str = i + str\n",
        "\n",
        "print(str)"
      ],
      "execution_count": 35,
      "outputs": [
        {
          "output_type": "stream",
          "text": [
            "shreya\n",
            "ayerhs\n"
          ],
          "name": "stdout"
        }
      ]
    },
    {
      "cell_type": "markdown",
      "metadata": {
        "id": "EHwhaS5FAZbd",
        "colab_type": "text"
      },
      "source": [
        "**7.** Write a Python Program to print the given string in the format specified in the sample output.\n",
        "\n",
        "WE, THE PEOPLE OF INDIA, having solemnly resolved to constitute India into a\n",
        "SOVEREIGN, SOCIALIST, SECULAR, DEMOCRATIC REPUBLIC and to secure to all\n",
        "its citizens\n",
        "\n",
        "Sample Output:\n",
        "\n",
        "WE, THE PEOPLE OF INDIA,\n",
        "\n",
        "having solemnly resolved to constitute India into a SOVEREIGN, !\n",
        "\n",
        "SOCIALIST, SECULAR, DEMOCRATIC REPUBLIC\n",
        "\n",
        "and to secure to all its citizens"
      ]
    },
    {
      "cell_type": "markdown",
      "metadata": {
        "colab_type": "text",
        "id": "4pBq9bFo04Ol"
      },
      "source": [
        "Sol."
      ]
    },
    {
      "cell_type": "code",
      "metadata": {
        "id": "r5wpw4gXxZk4",
        "colab_type": "code",
        "colab": {
          "base_uri": "https://localhost:8080/",
          "height": 85
        },
        "outputId": "6442facf-7d45-43ba-d346-7075be3ad9fd"
      },
      "source": [
        "print(\"WE, THE PEOPLE OF INDIA,\\n\\thaving solemnly resolved to constitute India into a SOVEREIGN, !\\n\\t\\tSOCIALIST, SECULAR, DEMOCRATIC REPUBLIC\\n\\t\\t and to secure to all its citizens\")"
      ],
      "execution_count": 2,
      "outputs": [
        {
          "output_type": "stream",
          "text": [
            "WE, THE PEOPLE OF INDIA,\n",
            "\thaving solemnly resolved to constitute India into a SOVEREIGN, !\n",
            "\t\tSOCIALIST, SECULAR, DEMOCRATIC REPUBLIC\n",
            "\t\t and to secure to all its citizens\n"
          ],
          "name": "stdout"
        }
      ]
    }
  ]
}