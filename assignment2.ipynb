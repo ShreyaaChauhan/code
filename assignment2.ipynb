{
  "nbformat": 4,
  "nbformat_minor": 0,
  "metadata": {
    "colab": {
      "name": "assignment2.ipynb",
      "provenance": [],
      "authorship_tag": "ABX9TyO+H/lyYa9R4yedfJZ03c/e",
      "include_colab_link": true
    },
    "kernelspec": {
      "name": "python3",
      "display_name": "Python 3"
    }
  },
  "cells": [
    {
      "cell_type": "markdown",
      "metadata": {
        "id": "view-in-github",
        "colab_type": "text"
      },
      "source": [
        "<a href=\"https://colab.research.google.com/github/ShreyaaChauhan/code/blob/master/assignment2.ipynb\" target=\"_parent\"><img src=\"https://colab.research.google.com/assets/colab-badge.svg\" alt=\"Open In Colab\"/></a>"
      ]
    },
    {
      "cell_type": "markdown",
      "metadata": {
        "id": "P6Eq0sKR6zHX",
        "colab_type": "text"
      },
      "source": [
        "1.Create the below pattern using nested for loop in Python."
      ]
    },
    {
      "cell_type": "code",
      "metadata": {
        "id": "EnZgywb07Asw",
        "colab_type": "code",
        "colab": {
          "base_uri": "https://localhost:8080/",
          "height": 187
        },
        "outputId": "c5f7627c-fa6f-4ed7-b085-b24f2eabb140"
      },
      "source": [
        "for i in range(0,6):\n",
        "  print(\"*\"*i)\n",
        "for i in range(4,0,-1):\n",
        "  print(\"*\"*i)"
      ],
      "execution_count": 2,
      "outputs": [
        {
          "output_type": "stream",
          "text": [
            "\n",
            "*\n",
            "**\n",
            "***\n",
            "****\n",
            "*****\n",
            "****\n",
            "***\n",
            "**\n",
            "*\n"
          ],
          "name": "stdout"
        }
      ]
    },
    {
      "cell_type": "markdown",
      "metadata": {
        "id": "q-5m0w7ABgOu",
        "colab_type": "text"
      },
      "source": [
        "**2**. Write a Python program to reverse a word after accepting the input from the user."
      ]
    },
    {
      "cell_type": "code",
      "metadata": {
        "id": "oDk_XO2sBj8w",
        "colab_type": "code",
        "colab": {
          "base_uri": "https://localhost:8080/",
          "height": 51
        },
        "outputId": "8df40971-22bb-4a83-d056-15ded2245abe"
      },
      "source": [
        "word = input()\n",
        "str=\"\"\n",
        "for i in word:\n",
        "  str = i + str\n",
        "\n",
        "print(str)"
      ],
      "execution_count": 5,
      "outputs": [
        {
          "output_type": "stream",
          "text": [
            "shreya\n",
            "ayerhs\n"
          ],
          "name": "stdout"
        }
      ]
    }
  ]
}